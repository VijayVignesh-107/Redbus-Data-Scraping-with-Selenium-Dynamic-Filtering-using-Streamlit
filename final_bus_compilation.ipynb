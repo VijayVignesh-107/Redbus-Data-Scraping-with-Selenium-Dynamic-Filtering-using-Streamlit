{
 "cells": [
  {
   "cell_type": "code",
   "execution_count": 1,
   "id": "e05c042e-d944-4c63-a8d7-eb3dbb222274",
   "metadata": {},
   "outputs": [],
   "source": [
    "import pandas as pd\n",
    "import psycopg2\n",
    "import sqlalchemy\n",
    "from sqlalchemy import create_engine\n",
    "from sqlalchemy.types import String, Integer, Time, Interval, Float, Text\n"
   ]
  },
  {
   "cell_type": "code",
   "execution_count": 3,
   "id": "25845d5f-a2a4-4791-9986-68344db9b01c",
   "metadata": {},
   "outputs": [],
   "source": [
    "df_final = pd.read_csv(\"C:\\\\Users\\\\Dell\\\\Webscrapting_python\\\\Final.csv\")\n",
    "df_final['Star_rating'] = df_final['Star_rating'].str[0:3]\n",
    "df_final['Star_rating'] = df_final['Star_rating'].replace(' ','0.0')\n",
    "df_final['Star_rating'] = df_final['Star_rating'].fillna(0.0)\n",
    "df_final['Star_rating'] = df_final['Star_rating'].astype(float)"
   ]
  },
  {
   "cell_type": "code",
   "execution_count": 29,
   "id": "5f9b514f-ee24-48c1-a53f-b280af47a4a5",
   "metadata": {},
   "outputs": [
    {
     "name": "stdout",
     "output_type": "stream",
     "text": [
      "<class 'pandas.core.frame.DataFrame'>\n",
      "RangeIndex: 11228 entries, 0 to 11227\n",
      "Data columns (total 11 columns):\n",
      " #   Column            Non-Null Count  Dtype  \n",
      "---  ------            --------------  -----  \n",
      " 0   Service_Name      11228 non-null  object \n",
      " 1   Route_name        11228 non-null  object \n",
      " 2   Route_link        11228 non-null  object \n",
      " 3   Bus_names         11228 non-null  object \n",
      " 4   Bus_type          11228 non-null  object \n",
      " 5   Departing_time    11228 non-null  object \n",
      " 6   Duration          11228 non-null  object \n",
      " 7   Reaching_time     11228 non-null  object \n",
      " 8   Star_rating       11228 non-null  float64\n",
      " 9   Price             11228 non-null  float64\n",
      " 10  Seat_availablity  11228 non-null  int64  \n",
      "dtypes: float64(2), int64(1), object(8)\n",
      "memory usage: 965.0+ KB\n"
     ]
    }
   ],
   "source": [
    "df_final.info()"
   ]
  },
  {
   "cell_type": "code",
   "execution_count": 7,
   "id": "0b049553-df5c-4490-a8de-68c68c172cda",
   "metadata": {},
   "outputs": [],
   "source": [
    "db_params = {\n",
    "    'dbname': 'red_bus',\n",
    "    'user': 'postgres',\n",
    "    'password': 'QWERTY',\n",
    "    'host': 'localhost',  \n",
    "    'port': '5432'        \n",
    "}"
   ]
  },
  {
   "cell_type": "code",
   "execution_count": 27,
   "id": "6b847b94-7e3a-4af2-9887-9cd4ebd97e24",
   "metadata": {},
   "outputs": [
    {
     "name": "stdout",
     "output_type": "stream",
     "text": [
      "Database connection successful!\n",
      "Table created successfully!\n",
      "Data inserted successfully!\n"
     ]
    }
   ],
   "source": [
    "try:\n",
    "    connection = psycopg2.connect(**db_params)\n",
    "    print(\"Database connection successful!\")\n",
    "\n",
    "    cursor = connection.cursor()\n",
    "\n",
    "    \n",
    "    create_table_query = '''\n",
    "        CREATE TABLE bus_routes (\n",
    "        id SERIAL PRIMARY KEY,\n",
    "        service_name TEXT NOT NULL,\n",
    "        route_name TEXT NOT NULL,\n",
    "        route_link TEXT NOT NULL,\n",
    "        bus_name TEXT NOT NULL,\n",
    "        bus_type TEXT NOT NULL,\n",
    "        departing_time TIME NOT NULL ,\n",
    "        duration TEXT NOT NULL,\n",
    "        reaching_time TIME NOT NULL,\n",
    "        star_rating FLOAT NOT NULL,\n",
    "        price DECIMAL(10, 2) NOT NULL,\n",
    "        seats_available INT NOT NULL\n",
    "    );\n",
    "    '''\n",
    "\n",
    "\n",
    "    cursor.execute(create_table_query)\n",
    "    connection.commit()\n",
    "    print(\"Table created successfully!\")\n",
    "\n",
    "   \n",
    "\n",
    "    for _,row in df_final.iterrows():\n",
    "        insert_query = \"INSERT INTO bus_routes (service_name, route_name, route_link, bus_name, bus_type, departing_time, duration, reaching_time, star_rating,price,seats_available) VALUES (%s, %s,%s, %s,%s, %s,%s, %s,%s, %s,%s);\"\n",
    "        cursor.execute(insert_query, (row['Service_Name'],row['Route_name'],row['Route_link'],row['Bus_names'],row['Bus_type'],row['Departing_time'],row['Duration'],row['Reaching_time'],row['Star_rating'],row['Price'],row['Seat_availablity']))\n",
    "        \n",
    "    connection.commit()\n",
    "    print(\"Data inserted successfully!\")\n",
    "\n",
    "    # select_query = \"SELECT * FROM example;\"\n",
    "    # cursor.execute(select_query)\n",
    "    # rows = cursor.fetchall()\n",
    "    # for row in rows:\n",
    "    #     print(row)\n",
    "\n",
    "except Exception as e:\n",
    "    print(\"Error:\", e)"
   ]
  },
  {
   "cell_type": "code",
   "execution_count": null,
   "id": "8529b10f-8997-4124-bff3-31f963b44b99",
   "metadata": {},
   "outputs": [],
   "source": []
  }
 ],
 "metadata": {
  "kernelspec": {
   "display_name": "Python 3 (ipykernel)",
   "language": "python",
   "name": "python3"
  },
  "language_info": {
   "codemirror_mode": {
    "name": "ipython",
    "version": 3
   },
   "file_extension": ".py",
   "mimetype": "text/x-python",
   "name": "python",
   "nbconvert_exporter": "python",
   "pygments_lexer": "ipython3",
   "version": "3.12.4"
  }
 },
 "nbformat": 4,
 "nbformat_minor": 5
}
